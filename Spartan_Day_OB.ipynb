{
  "nbformat": 4,
  "nbformat_minor": 0,
  "metadata": {
    "colab": {
      "name": "Spartan Day OB",
      "provenance": [],
      "collapsed_sections": [],
      "include_colab_link": true
    },
    "kernelspec": {
      "name": "python3",
      "display_name": "Python 3"
    }
  },
  "cells": [
    {
      "cell_type": "markdown",
      "metadata": {
        "id": "view-in-github",
        "colab_type": "text"
      },
      "source": [
        "<a href=\"https://colab.research.google.com/github/athenian-ct-projects/Spartan-Day-OB/blob/master/Spartan_Day_OB.ipynb\" target=\"_parent\"><img src=\"https://colab.research.google.com/assets/colab-badge.svg\" alt=\"Open In Colab\"/></a>"
      ]
    },
    {
      "cell_type": "markdown",
      "metadata": {
        "id": "c5mkUJ1qjjiP",
        "colab_type": "text"
      },
      "source": [
        "This Code is for the Spartan day and this is by Olivia Breach '23"
      ]
    },
    {
      "cell_type": "markdown",
      "metadata": {
        "id": "sk2Kl9Hdq905",
        "colab_type": "text"
      },
      "source": [
        "First you will pick a number from 1-5. It wil ask you to enter a number then once you have done that it will ask you to pick a number to decide the name of that part of the course. It will make you do each of those 3 times. Once you have 3 objectives with their respective names you will give them to the teacher so they know that you have completed the task. Then you will add the tasks into the race. "
      ]
    },
    {
      "cell_type": "code",
      "metadata": {
        "id": "SBty1afVaY3Q",
        "colab_type": "code",
        "outputId": "3b0b66ff-e280-4038-b6e6-6fe6671cea78",
        "colab": {
          "base_uri": "https://localhost:8080/",
          "height": 340
        }
      },
      "source": [
        "def incorrect():\n",
        "    print (\"sorry not the right number\")\n",
        "for x in range (1,4,1):\n",
        "  print(x)\n",
        "else:\n",
        "  print(\"Please Start the game\")\n",
        "print(\"once you have picked 3 numbers with their names give them to your teacher so they know you completed your task\") \n",
        "#you will have to choose a number 3 times (they have to be different numbers)\n",
        "#I am defining each number and added a while loop so I makes you pick a number 3 times.\n",
        "x=0\n",
        "while x<3 :\n",
        "  num = int(input(\"enter a number 1-5: \"))\n",
        "  if num == 1 :\n",
        "    print (\" you have to incorperate an obstacle you have to jump over\")\n",
        "  elif num == 2 :\n",
        "    print (\" you have to do 5 pushups before starting the race\")\n",
        "  elif num == 3 :\n",
        "    print (\" you have to weave throught 4 poles\")\n",
        "  elif num == 4 :\n",
        "    print (\" you have to go through a tube\")\n",
        "  elif num == 5 :\n",
        "    print (\" you have to add a part of the coarse where you can not touch the ground \") \n",
        "  else:\n",
        "    incorrect()\n",
        "  name = int(input(\"now pick a number that will determine the name of this objective from 6-11: \"))\n",
        "  #now you will name each number\n",
        "  #what ever number goes with the name is what that object has to be called\n",
        "  if name == 6 :\n",
        "    print (\" tarantula\")\n",
        "  if name == 7 :\n",
        "    print (\" Superstar\")\n",
        "  if name == 8 :\n",
        "    print (\" crab cakes\")\n",
        "  if name == 9 :\n",
        "    print (\" dog cave\")\n",
        "  if name == 10 :\n",
        "    print (\" pole bender\")\n",
        "  if name == 11 :\n",
        "    print (\" kangaroo\")\n",
        "  x = x+1 \n",
        "print (\"if one of your answers was wrong you must restart to make sure you have 3 of each\")\n",
        "print (\" now that you are done, go back to the top to read the rest of the instructions \")"
      ],
      "execution_count": 0,
      "outputs": [
        {
          "output_type": "stream",
          "text": [
            "1\n",
            "2\n",
            "3\n",
            "Please Start the game\n",
            "once you have picked 3 numbers with their names give them to your teacher so they know you completed your task\n",
            "enter a number 1-5: 1\n",
            " you have to incorperate an obstacle you have to jump over\n",
            "now pick a number that will determine the name of this objective from 6-11: 6\n",
            " tarantula\n",
            "enter a number 1-5: 2\n",
            " you have to do 5 pushups before starting the race\n",
            "now pick a number that will determine the name of this objective from 6-11: 7\n",
            " Superstar\n",
            "enter a number 1-5: 3\n",
            " you have to weave throught 4 poles\n",
            "now pick a number that will determine the name of this objective from 6-11: 8\n",
            " crab cakes\n",
            "if one of your answers was wrong you must restart to make sure you have 3 of each\n",
            " know that you are done go back to the top to read the rest of the instructions \n"
          ],
          "name": "stdout"
        }
      ]
    }
  ]
}